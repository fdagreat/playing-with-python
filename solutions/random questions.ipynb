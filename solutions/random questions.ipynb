{
 "cells": [
  {
   "cell_type": "code",
   "execution_count": null,
   "metadata": {},
   "outputs": [],
   "source": [
    "fruits = [\" Apples \",\" Oranges\"]\n",
    "text = \"\"\n",
    "for i in range(len(fruits)) :\n",
    "    text += str(i+3) + fruits[i]\n",
    "print(text)"
   ]
  },
  {
   "cell_type": "code",
   "execution_count": null,
   "metadata": {},
   "outputs": [],
   "source": [
    "aList = [\"A\", \"B\", \"C\"]\n",
    "bList= [1,2,3]\n",
    "result=\"\"\n",
    "for i in range (len(aList)):\n",
    "    result += aList[i] * bList[i]\n",
    "print(result)"
   ]
  },
  {
   "cell_type": "code",
   "execution_count": null,
   "metadata": {},
   "outputs": [],
   "source": [
    "import numpy as np\n",
    "x = range(0,9)\n",
    "a = np.array(x)\n",
    "a = a+a\n",
    "b = a.reshape(3,3)\n",
    "c = b[b<5]\n",
    "print(c)"
   ]
  },
  {
   "cell_type": "code",
   "execution_count": null,
   "metadata": {},
   "outputs": [],
   "source": [
    "import numpy as np\n",
    "a = np.array([2, 4, 6])\n",
    "a[:1] = a[:1]+2\n",
    "print(a)"
   ]
  },
  {
   "cell_type": "code",
   "execution_count": null,
   "metadata": {},
   "outputs": [],
   "source": [
    "# removing duplicates\n",
    "def duplicate (L) :\n",
    "    Lc = L\n",
    "    my = len(L) - 1\n",
    "    for i in range (len(L)):\n",
    "        if i < my: \n",
    "            if L[i]==L[i+1]:\n",
    "                \n",
    "                Lc.remove(L[i])\n",
    "                my -= 1\n",
    "            \n",
    "            \n",
    "    return Lc"
   ]
  },
  {
   "cell_type": "code",
   "execution_count": null,
   "metadata": {},
   "outputs": [],
   "source": [
    "L = [1,2,2,4,4,5,5]\n",
    "duplicate (L)"
   ]
  }
 ],
 "metadata": {
  "interpreter": {
   "hash": "f680a5a80362cd3edb1c14020f5e5370ae53c03100fbbb1b1fcac0ee8a30d29d"
  },
  "kernelspec": {
   "display_name": "Python 3.8.8 64-bit ('base': conda)",
   "language": "python",
   "name": "python3"
  },
  "language_info": {
   "codemirror_mode": {
    "name": "ipython",
    "version": 3
   },
   "file_extension": ".py",
   "mimetype": "text/x-python",
   "name": "python",
   "nbconvert_exporter": "python",
   "pygments_lexer": "ipython3",
   "version": "3.8.8"
  },
  "orig_nbformat": 4
 },
 "nbformat": 4,
 "nbformat_minor": 2
}

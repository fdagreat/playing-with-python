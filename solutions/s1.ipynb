{
 "cells": [
  {
   "cell_type": "code",
   "execution_count": null,
   "metadata": {},
   "outputs": [],
   "source": [
    "import numpy as np"
   ]
  },
  {
   "cell_type": "code",
   "execution_count": null,
   "metadata": {},
   "outputs": [],
   "source": [
    "def one_pound(c1, c2, c3):\n",
    "\n",
    "    resultArray1 = []\n",
    "    resultArray2 = []\n",
    "    resultArray3 = []\n",
    "    \n",
    "    arrayc1 = []\n",
    "    arrayc2 = []\n",
    "    arrayc3 = []\n",
    "\n",
    "    ways_dictionary = {}\n",
    "    f = 1\n",
    "\n",
    "    for i in range(1, 21):\n",
    "        resultArray1.append(c1*i)\n",
    "        arrayc1.append(str(i) + '*' + str(c1))\n",
    "\n",
    "    for i in range(1, 21):\n",
    "        resultArray2.append(c2*i)\n",
    "        arrayc2.append(str(i) + '*' + str(c2))\n",
    "       \n",
    "    \n",
    "    for i in range(1, 21):\n",
    "        resultArray3.append(c3*i)\n",
    "        arrayc3.append(str(i) + '*' + str(c3))\n",
    "       \n",
    "\n",
    "    for i in range(0, len(resultArray1)):\n",
    "        for j in range(0, len(resultArray2)):\n",
    "            for k in range(0, len(resultArray3)):\n",
    "                if resultArray1[i] + resultArray2[j] + resultArray3[k] == 100:\n",
    "                    result = resultArray1[i] + resultArray2[j] + resultArray3[k]\n",
    "                    # print(resultArray1[i], resultArray2[j], resultArray3[k])\n",
    "                    way = f'{arrayc1[i]}' '+' f'{arrayc2[j]}' '+' f'{arrayc3[k]} = ' f'{result}'\n",
    "                    # append way to dictionary\n",
    "                    ways_dictionary[f] = way\n",
    "                    f += 1\n",
    "    \n",
    "    return ways_dictionary\n",
    "\n",
    " \n",
    "        "
   ]
  },
  {
   "cell_type": "code",
   "execution_count": null,
   "metadata": {},
   "outputs": [],
   "source": [
    "# one_pound(2, 5, 20)\n",
    "val1 = input(\"Please enter the first cent:\\n\")\n",
    "val2 = input(\"Please enter the second cent:\\n\")\n",
    "val3 = input(\"Please enter the third cent:\\n\")\n",
    "\n",
    "c1 = int(val1)\n",
    "c2 = int(val2)\n",
    "c3 = int(val3)\n",
    "\n",
    "one_pound(c1, c2, c3)\n"
   ]
  }
 ],
 "metadata": {
  "interpreter": {
   "hash": "f680a5a80362cd3edb1c14020f5e5370ae53c03100fbbb1b1fcac0ee8a30d29d"
  },
  "kernelspec": {
   "display_name": "Python 3.8.8 64-bit ('base': conda)",
   "language": "python",
   "name": "python3"
  },
  "language_info": {
   "codemirror_mode": {
    "name": "ipython",
    "version": 3
   },
   "file_extension": ".py",
   "mimetype": "text/x-python",
   "name": "python",
   "nbconvert_exporter": "python",
   "pygments_lexer": "ipython3",
   "version": "3.8.8"
  },
  "orig_nbformat": 4
 },
 "nbformat": 4,
 "nbformat_minor": 2
}

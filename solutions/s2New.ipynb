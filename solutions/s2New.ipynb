{
 "cells": [
  {
   "cell_type": "code",
   "execution_count": 11,
   "metadata": {},
   "outputs": [],
   "source": [
    "articles = {\n",
    "    11: ('Lemon cake', 2.75), 14: ('Coffee machine' ,120.) ,\n",
    "    16: ('Toaster', 50.), 19: ('Weighing scale',69.),\n",
    "    25: ('Bike' ,250.), 26: ('Bread', 0.89),\n",
    "    28: ('Milk Sem 2L', 2.35) }"
   ]
  },
  {
   "cell_type": "code",
   "execution_count": 12,
   "metadata": {},
   "outputs": [],
   "source": [
    "def gen_receipt(data): # Generate a receipt\n",
    "    receipt = []\n",
    "    total = 0.0\n",
    "    \n",
    "\n",
    "    for i,k in zip(data[0::2], data[1::2]):\n",
    "        product_name = i\n",
    "        product_quantity = k\n",
    "\n",
    "        if product_name in articles:\n",
    "\n",
    "            for id, (name, price) in articles.items():\n",
    "                    #if the id is in articles add to the receipt\n",
    "                    if id == product_name:\n",
    "                        receipt.append((name, price, product_quantity))\n",
    "                        total += price * product_quantity\n",
    "                        \n",
    "\n",
    "                    # if the id is not in articles, print an error message\n",
    "                    # else:\n",
    "                    #     print('Error: product not found')\n",
    "\n",
    "        else:\n",
    "            error_message= 'For product code:',f'{product_name}','Error: product not found'\n",
    "            receipt.append(error_message)\n",
    "\n",
    "    import csv\n",
    "\n",
    "    # write a receipt in a csv file \n",
    "    with open('Q2_receipt.csv', 'w') as f:\n",
    "        writer = csv.writer(f)\n",
    "        output = receipt + [('Total', total)]\n",
    "        writer.writerows(output)\n",
    "\n",
    "\n",
    "   \n",
    "\n",
    "\n",
    "\n",
    "    \n",
    "    "
   ]
  },
  {
   "cell_type": "code",
   "execution_count": 13,
   "metadata": {},
   "outputs": [],
   "source": [
    "data = [1, 14, 16, 19, 25, 26, 28, 11, 14, 16, 19, 25, 26, 28]\n",
    "gen_receipt(data)"
   ]
  },
  {
   "cell_type": "code",
   "execution_count": null,
   "metadata": {},
   "outputs": [],
   "source": [
    "\n"
   ]
  }
 ],
 "metadata": {
  "interpreter": {
   "hash": "f680a5a80362cd3edb1c14020f5e5370ae53c03100fbbb1b1fcac0ee8a30d29d"
  },
  "kernelspec": {
   "display_name": "Python 3.8.8 64-bit ('base': conda)",
   "language": "python",
   "name": "python3"
  },
  "language_info": {
   "codemirror_mode": {
    "name": "ipython",
    "version": 3
   },
   "file_extension": ".py",
   "mimetype": "text/x-python",
   "name": "python",
   "nbconvert_exporter": "python",
   "pygments_lexer": "ipython3",
   "version": "3.8.8"
  },
  "orig_nbformat": 4
 },
 "nbformat": 4,
 "nbformat_minor": 2
}
